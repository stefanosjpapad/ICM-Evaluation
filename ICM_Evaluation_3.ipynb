{
  "nbformat": 4,
  "nbformat_minor": 0,
  "metadata": {
    "colab": {
      "name": "ICM Evaluation 3.ipynb",
      "provenance": []
    },
    "kernelspec": {
      "name": "python3",
      "display_name": "Python 3"
    }
  },
  "cells": [
    {
      "cell_type": "code",
      "metadata": {
        "id": "dEC5ocUq-Ock",
        "colab_type": "code",
        "colab": {}
      },
      "source": [
        "pip install ndlib"
      ],
      "execution_count": 0,
      "outputs": []
    },
    {
      "cell_type": "code",
      "metadata": {
        "id": "-v5PvY-h-Sz7",
        "colab_type": "code",
        "colab": {}
      },
      "source": [
        "pip install cdlib"
      ],
      "execution_count": 0,
      "outputs": []
    },
    {
      "cell_type": "code",
      "metadata": {
        "id": "eYwbEHrA-VBf",
        "colab_type": "code",
        "colab": {}
      },
      "source": [
        "from google.colab import drive\n",
        "drive.mount('/content/drive')"
      ],
      "execution_count": 0,
      "outputs": []
    },
    {
      "cell_type": "code",
      "metadata": {
        "id": "QkcKBqHf-XP3",
        "colab_type": "code",
        "colab": {}
      },
      "source": [
        "from cdlib import algorithms\n",
        "import networkx as nx\n",
        "import ndlib.models.ModelConfig as mc\n",
        "import ndlib.models.epidemics as ep\n",
        "import pandas as pd"
      ],
      "execution_count": 0,
      "outputs": []
    },
    {
      "cell_type": "code",
      "metadata": {
        "id": "rlHP5o_8-ZJX",
        "colab_type": "code",
        "colab": {}
      },
      "source": [
        "def ICM(graph, per_inf, threshold, num_iter):\n",
        "  model = ep.IndependentCascadesModel(graph)\n",
        "\n",
        "  config = mc.Configuration()\n",
        "  config.add_model_parameter('percentage_infected', per_inf)\n",
        "\n",
        "  for e in graph.edges():\n",
        "      config.add_edge_configuration(\"threshold\", e, threshold) # edge attribute setting\n",
        "\n",
        "  model.set_initial_status(config)\n",
        "\n",
        "  iterations = model.iteration_bunch(num_iter, node_status=True)\n",
        "\n",
        "  trends = model.build_trends(iterations)\n",
        "  return iterations\n",
        "\n",
        "  %matplotlib inline\n",
        "  from ndlib.viz.mpl.DiffusionTrend import DiffusionTrend\n",
        "  viz = DiffusionTrend(model, trends)\n",
        "  print(viz)\n",
        "  viz.plot()"
      ],
      "execution_count": 0,
      "outputs": []
    },
    {
      "cell_type": "code",
      "metadata": {
        "id": "ehkGSw6G-eEX",
        "colab_type": "code",
        "colab": {}
      },
      "source": [
        "files = ['/content/drive/My Drive/auth/SNA Project/Datasets/ca-sandi_auths.mtx'\n",
        ",'/content/drive/My Drive/auth/SNA Project/Datasets/ca-netscience.mtx'\n",
        ",'/content/drive/My Drive/auth/SNA Project/Datasets/bio-celegans.mtx'\n",
        ",'/content/drive/My Drive/auth/SNA Project/Datasets/bio-diseasome.mtx'\n",
        ",'/content/drive/My Drive/auth/SNA Project/Datasets/rt-twitter-copen.mtx'\n",
        ",'/content/drive/My Drive/auth/SNA Project/Datasets/econ-mbeause.mtx'\n",
        ",'/content/drive/My Drive/auth/SNA Project/Datasets/econ-wm2.mtx'\n",
        ",'/content/drive/My Drive/auth/SNA Project/Datasets/econ-mbeacxc.mtx'\n",
        ",'/content/drive/My Drive/auth/SNA Project/Datasets/ca-CSphd.mtx'\n",
        ",'/content/drive/My Drive/auth/SNA Project/Datasets/ca-GrQc.mtx'\n",
        ",'/content/drive/My Drive/auth/SNA Project/Datasets/ca-HepPh.mtx'\n",
        ",'/content/drive/My Drive/auth/SNA Project/Datasets/econ-psmigr1.mtx']"
      ],
      "execution_count": 0,
      "outputs": []
    },
    {
      "cell_type": "code",
      "metadata": {
        "id": "zquam0-k_Kjr",
        "colab_type": "code",
        "colab": {}
      },
      "source": [
        "def iter_analysis(z,length):\n",
        "  count_inf = count_rem = avg_inf = avg_rem = 0\n",
        "  leny = length\n",
        "  for i in range(0,len(z)):\n",
        "    x = z[i].get('status')\n",
        "    for key in x:\n",
        "      y =x[key]\n",
        "      if y == 1:\n",
        "        count_inf += 1\n",
        "      elif y == 2:\n",
        "        count_rem += 1\n",
        "  avg_inf = count_inf / leny\n",
        "  avg_rem = count_rem / leny\n",
        "  return[count_inf, avg_inf, count_rem, avg_rem]"
      ],
      "execution_count": 0,
      "outputs": []
    },
    {
      "cell_type": "code",
      "metadata": {
        "id": "4LhWnTdk-jnm",
        "colab_type": "code",
        "colab": {}
      },
      "source": [
        "def icm_data(a, b, num, G):\n",
        "  df = pd.DataFrame(columns = ['Graph', 'Model', 'Size', 'Infected Number', 'Avg_inf', 'Fin_rem', 'Avg_rem' ])\n",
        "  lenG = G.order()\n",
        "  inf_num = avg_inf = fin_rem = avg_rem = 0\n",
        "\n",
        "  n = 5 \n",
        "  for i in range(1,n):\n",
        "    z = ICM(G, a, b, num)\n",
        "    x = iter_analysis(z, lenG) \n",
        "    inf_num += x[0]\n",
        "    avg_inf += x[1]\n",
        "    fin_rem += x[2]\n",
        "    avg_rem += x[3]\n",
        "\n",
        "  df = df.append({'Graph' : 'Full Graph', 'Model' : 'ICM', 'Size' : lenG, 'Infected Number' :inf_num/n ,'Avg_inf' :avg_inf/n, 'Fin_rem' : fin_rem/n, 'Avg_rem' : avg_rem/n} , ignore_index=True)\n",
        "  return df\n"
      ],
      "execution_count": 0,
      "outputs": []
    },
    {
      "cell_type": "code",
      "metadata": {
        "id": "qwMV3czj-usI",
        "colab_type": "code",
        "colab": {}
      },
      "source": [
        "def aggegateIC_datasets(files):  \n",
        "  import seaborn as sn\n",
        "  dataset_csv_file = '/content/drive/My Drive/auth/SNA Project/Datasets/SNA Datasets.csv'\n",
        "  final_df = pd.DataFrame(columns = ['Model', 'Seed nodes', 'Inf_Threshold', 'Graph_size', 'FG_infection'])\n",
        "  import numpy as np\n",
        "  perc = np.arange(0.1, 0.4, 0.1)\n",
        "  num = 10\n",
        "  for a in perc:\n",
        "    for b in perc:\n",
        "      av = pd.DataFrame(columns = ['Model', 'Seed nodes', 'Inf_Threshold', 'Graph_size', 'FG_infection']) ### TEMPORARY TEST!!!!!!!!!!!!!!\n",
        "      for f in files:\n",
        "        df_csv = pd.read_csv(dataset_csv_file)\n",
        "        G = nx.read_adjlist(f)\n",
        "        df = icm_data(a, b, num, G) ### average of 5 experiments\n",
        "        model = df.loc[0, 'Model']\n",
        "        lenG = G.order()\n",
        "        FG = df.loc[0,'Infected Number'] / lenG\n",
        "        count = df.loc[1:,'Infected Number'].sum() / lenG\n",
        "        av = av.append({'Model' : model,'Seed nodes' : a, 'Inf_Threshold' : b, 'Graph_size' : lenG, 'FG_infection' : FG} , ignore_index=True)\n",
        "      av = pd.concat([av,df_csv],axis=1)\n",
        "      final_df = final_df.append(av,ignore_index=True, sort=False)    \n",
        "  return final_df"
      ],
      "execution_count": 0,
      "outputs": []
    },
    {
      "cell_type": "code",
      "metadata": {
        "id": "7ULW2tkU-0um",
        "colab_type": "code",
        "colab": {}
      },
      "source": [
        "data = aggegateIC_datasets(files)\n",
        "print(data)"
      ],
      "execution_count": 0,
      "outputs": []
    },
    {
      "cell_type": "code",
      "metadata": {
        "id": "pHuzhAbH-5Fs",
        "colab_type": "code",
        "colab": {}
      },
      "source": [
        "final = pd.DataFrame()\n",
        "for i in range(0,16):\n",
        "    corrM = data.loc[(12*i):(12*i+11)].corrwith(data.loc[(12*i):(12*i+11)]['FG_infection'], method='pearson', axis = 0)\n",
        "    corrM = corrM.to_frame()\n",
        "    final = pd.concat([final, corrM],axis=1, ignore_index=True)\n",
        "print(final.mean(axis=1).round(2))\n"
      ],
      "execution_count": 0,
      "outputs": []
    },
    {
      "cell_type": "code",
      "metadata": {
        "id": "s8OH6zZZ-8pr",
        "colab_type": "code",
        "colab": {}
      },
      "source": [
        "import seaborn as sn\n",
        "sn.heatmap(data.loc[0:11].corr(method='pearson'), annot=True, fmt=\".2f\")"
      ],
      "execution_count": 0,
      "outputs": []
    }
  ]
}