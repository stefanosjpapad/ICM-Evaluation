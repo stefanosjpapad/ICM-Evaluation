{
  "nbformat": 4,
  "nbformat_minor": 0,
  "metadata": {
    "colab": {
      "name": "ICM Evaluation1.2.ipynb",
      "provenance": []
    },
    "kernelspec": {
      "name": "python3",
      "display_name": "Python 3"
    }
  },
  "cells": [
    {
      "cell_type": "code",
      "metadata": {
        "id": "vFJd3nj76xp1",
        "colab_type": "code",
        "colab": {}
      },
      "source": [
        "pip install ndlib"
      ],
      "execution_count": 0,
      "outputs": []
    },
    {
      "cell_type": "code",
      "metadata": {
        "id": "PqiKaBWe7jtJ",
        "colab_type": "code",
        "colab": {}
      },
      "source": [
        "pip install cdlib"
      ],
      "execution_count": 0,
      "outputs": []
    },
    {
      "cell_type": "code",
      "metadata": {
        "id": "IfHLRO6m7l08",
        "colab_type": "code",
        "colab": {}
      },
      "source": [
        "from google.colab import drive\n",
        "drive.mount('/content/drive')"
      ],
      "execution_count": 0,
      "outputs": []
    },
    {
      "cell_type": "code",
      "metadata": {
        "id": "t5ZRL2_H7uK1",
        "colab_type": "code",
        "colab": {}
      },
      "source": [
        "from cdlib import algorithms\n",
        "import networkx as nx\n",
        "import ndlib.models.ModelConfig as mc\n",
        "import ndlib.models.epidemics as ep\n",
        "import pandas as pd"
      ],
      "execution_count": 0,
      "outputs": []
    },
    {
      "cell_type": "code",
      "metadata": {
        "id": "X6YNSw9T7v77",
        "colab_type": "code",
        "colab": {}
      },
      "source": [
        "def ICM(graph, per_inf, threshold, num_iter):\n",
        "  model = ep.IndependentCascadesModel(graph)\n",
        "\n",
        "  config = mc.Configuration()\n",
        "  config.add_model_parameter('percentage_infected', per_inf)\n",
        "  for e in graph.edges():\n",
        "      config.add_edge_configuration(\"threshold\", e, threshold) # edge attribute setting\n",
        "\n",
        "  model.set_initial_status(config)\n",
        "\n",
        "  iterations = model.iteration_bunch(num_iter, node_status=True)\n",
        "\n",
        "  trends = model.build_trends(iterations)\n",
        "  return iterations"
      ],
      "execution_count": 0,
      "outputs": []
    },
    {
      "cell_type": "code",
      "metadata": {
        "id": "vMi2jNr075JN",
        "colab_type": "code",
        "colab": {}
      },
      "source": [
        "fils = ['/content/drive/My Drive/Datasets/ca-HepPh.mtx'\n",
        ",'/content/drive/My Drive/Datasets/ca-GrQc.mtx'\n",
        ",'/content/drive/My Drive/Datasets/econ-psmigr1.mtx'\n",
        ",'/content/drive/My Drive/Datasets/ca-CSphd.mtx'\n",
        ",'/content/drive/My Drive/Datasets/ca-sandi_auths.mtx'\n",
        ",'/content/drive/My Drive/Datasets/ca-netscience.mtx'\n",
        ",'/content/drive/My Drive/Datasets/bio-celegans.mtx'\n",
        ",'/content/drive/My Drive/Datasets/bio-diseasome.mtx'\n",
        ",'/content/drive/My Drive/Datasets/rt-twitter-copen.mtx'\n",
        ",'/content/drive/My Drive/Datasets/econ-mbeause.mtx'\n",
        ",'/content/drive/My Drive/Datasets/econ-wm2.mtx'\n",
        ",'/content/drive/My Drive/Datasets/econ-mbeacxc.mtx']\n",
        "\n"
      ],
      "execution_count": 0,
      "outputs": []
    },
    {
      "cell_type": "code",
      "metadata": {
        "id": "TZuqxeut8Ic1",
        "colab_type": "code",
        "colab": {}
      },
      "source": [
        "def iter_analysis(z,length):\n",
        "  count_inf = count_rem = avg_inf = avg_rem = 0\n",
        "  leny = length\n",
        "  for i in range(0,len(z)):\n",
        "    x = z[i].get('status')\n",
        "    for key in x:\n",
        "      y =x[key]\n",
        "      if y == 1:\n",
        "        count_inf += 1\n",
        "      elif y == 2:\n",
        "        count_rem += 1\n",
        "  avg_inf = count_inf / leny\n",
        "  avg_rem = count_rem / leny\n",
        "  return[count_inf, avg_inf, count_rem, avg_rem]"
      ],
      "execution_count": 0,
      "outputs": []
    },
    {
      "cell_type": "code",
      "metadata": {
        "id": "PyJlyavH8Omn",
        "colab_type": "code",
        "colab": {}
      },
      "source": [
        "def speed_analysis(z,lenG,perc,v):\n",
        "  time = 0\n",
        "  count_inf = 0\n",
        "  thres = perc*lenG\n",
        "  for i in range(0,len(z)):\n",
        "    x = z[i].get('status')\n",
        "    for key in x:\n",
        "      y =x[key]\n",
        "      if y == 1:\n",
        "        count_inf += 1\n",
        "        if (count_inf >= thres and time == 0):\n",
        "          time = i\n",
        "  if time == 0:\n",
        "    time = v + 1\n",
        "  return time"
      ],
      "execution_count": 0,
      "outputs": []
    },
    {
      "cell_type": "code",
      "metadata": {
        "id": "X_gLl5YX8Osq",
        "colab_type": "code",
        "colab": {}
      },
      "source": [
        "def icm_data(a, b, num):\n",
        "  inf_num = avg_inf = fin_rem = avg_rem = y1 = y2 = y3 = 0\n",
        "  df = pd.DataFrame(columns = ['Graph', 'Model', 'Size', 'Infected Number', 'Avg_inf', 'Fin_rem', 'Avg_rem', 'Density', '40% Diffusion', '60% Diffusion', '80% Diffusion' ])\n",
        "  lenG = G.order()\n",
        "  n = 5\n",
        "  for i in range(1,n):\n",
        "    z = ICM(G, a, b, num)\n",
        "    x = iter_analysis(z, lenG)\n",
        "    z = ICM(G, a, b, 100)\n",
        "    y1 += speed_analysis(z,lenG,0.4,100)\n",
        "    y2 += speed_analysis(z,lenG,0.6,100)\n",
        "    y3 += speed_analysis(z,lenG,0.8,100)\n",
        "    inf_num += x[0]\n",
        "    avg_inf += x[1]\n",
        "    fin_rem += x[2]\n",
        "    avg_rem += x[3] \n",
        "  df = df.append({'Graph' : 'Full Graph', 'Model' : 'ICM', 'Size' : lenG, 'Infected Number' : inf_num/n ,'Avg_inf' :avg_inf/n, 'Fin_rem' : fin_rem/n, 'Avg_rem' : avg_rem/n, 'Density' : fg_density, '40% Diffusion' : y1/n, '60% Diffusion' : y2/n, '80% Diffusion': y3/n} , ignore_index=True)\n",
        "  for i in range (0, len(coms.communities)):\n",
        "    sub = coms.communities[i]\n",
        "    x = G.subgraph(sub)\n",
        "    lenG = len(x)\n",
        "    inf_num = avg_inf = fin_rem = avg_rem = 0\n",
        "    for k in range(1,n):\n",
        "      z = ICM(x, a, b, num)\n",
        "      x = iter_analysis(z, lenG) \n",
        "      inf_num += x[0]\n",
        "      avg_inf += x[1]\n",
        "      fin_rem += x[2]\n",
        "      avg_rem += x[3] \n",
        "    df = df.append({'Graph' : 'Sub Graph', 'Model' : 'ICM', 'Size' : lenG, 'Infected Number' : inf_num/n ,'Avg_inf' :avg_inf/n, 'Fin_rem' : fin_rem/n, 'Avg_rem' : avg_rem/n, 'Density' : sg_dens[i]} , ignore_index=True)\n",
        "  return df"
      ],
      "execution_count": 0,
      "outputs": []
    },
    {
      "cell_type": "code",
      "metadata": {
        "id": "7HM86S538Ovq",
        "colab_type": "code",
        "colab": {}
      },
      "source": [
        "def aggegate_data_ICM():\n",
        "  av = pd.DataFrame(columns = ['Model', 'Seed nodes', 'Inf_Threshold', 'Graph_size', 'FG_infection', 'SG_infection', 'Density', '40% Diffusion', '60% Diffusion', '80% Diffusion'])\n",
        "  a = 0.1\n",
        "  b = 0.2\n",
        "  num = 10\n",
        "  perc = np.arange(0.1, 0.4, 0.1)\n",
        "  for a in perc:\n",
        "    for b in perc:\n",
        "      df = icm_data(a, b, num)\n",
        "      den = df.loc[0, 'Density']\n",
        "      model = df.loc[0, 'Model']\n",
        "      y1 = df.loc[0, '40% Diffusion']\n",
        "      y2 = df.loc[0, '60% Diffusion']\n",
        "      y3 = df.loc[0, '80% Diffusion']\n",
        "      lenG = G.order()\n",
        "      FG = df.loc[0,'Infected Number'] / lenG\n",
        "      count = df.loc[1:,'Infected Number'].sum() / lenG\n",
        "      av = av.append({'Model' : model,'Seed nodes' : a, 'Inf_Threshold' : b, 'Graph_size' : lenG, 'FG_infection' : FG, 'SG_infection' : count, 'Density' : den, '40% Diffusion': y1, '60% Diffusion' : y2, '80% Diffusion' : y3} , ignore_index=True)\n",
        "  return av"
      ],
      "execution_count": 0,
      "outputs": []
    },
    {
      "cell_type": "code",
      "metadata": {
        "id": "f9duq0Ag8Oyq",
        "colab_type": "code",
        "colab": {}
      },
      "source": [
        "#### Main Class ####\n",
        "i = 0\n",
        "for f in fils:\n",
        "  i+= 1\n",
        "  print(i)\n",
        "  G = nx.read_adjlist(f)\n",
        "  fg_density = nx.density(G)\n",
        "  sg_conn = []\n",
        "  sg_dens = []\n",
        "  coms = algorithms.louvain(G, weight='weight', resolution=3., randomize=False)\n",
        "  for i in range (0, len(coms.communities)):\n",
        "    sub = coms.communities[i]\n",
        "    x = G.subgraph(sub)\n",
        "    sg_dens.append(nx.density(x))\n",
        "  data = aggegate_data_ICM()\n",
        "  data.to_csv('ICM.csv')\n",
        "  files.download('ICM.csv')"
      ],
      "execution_count": 0,
      "outputs": []
    }
  ]
}